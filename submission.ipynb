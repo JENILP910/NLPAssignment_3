{
 "cells": [
  {
   "cell_type": "markdown",
   "metadata": {
    "id": "Ak5gaxVz4_Yj"
   },
   "source": [
    "### Imports"
   ]
  },
  {
   "cell_type": "code",
   "execution_count": null,
   "metadata": {},
   "outputs": [],
   "source": [
    "# !pip install huggingface_hub transformers -q "
   ]
  },
  {
   "cell_type": "code",
   "execution_count": 1,
   "metadata": {
    "executionInfo": {
     "elapsed": 10063,
     "status": "ok",
     "timestamp": 1732022769784,
     "user": {
      "displayName": "Sailesh Panda",
      "userId": "08587574585507798904"
     },
     "user_tz": -330
    },
    "id": "_7yQv6zJ4_Yl"
   },
   "outputs": [],
   "source": [
    "import os\n",
    "from huggingface_hub import login\n",
    "\n",
    "import numpy as np\n",
    "\n",
    "from transformers import AutoTokenizer, AutoModelForSequenceClassification, DataCollatorWithPadding\n",
    "import torch\n",
    "from torch.utils.data import DataLoader\n",
    "from torch.optim import AdamW\n",
    "\n",
    "from sklearn.model_selection import train_test_split"
   ]
  },
  {
   "cell_type": "markdown",
   "metadata": {
    "id": "X2dikAy3_rsi"
   },
   "source": [
    "### Colab"
   ]
  },
  {
   "cell_type": "code",
   "execution_count": null,
   "metadata": {
    "colab": {
     "base_uri": "https://localhost:8080/"
    },
    "executionInfo": {
     "elapsed": 3188,
     "status": "ok",
     "timestamp": 1732022772971,
     "user": {
      "displayName": "Sailesh Panda",
      "userId": "08587574585507798904"
     },
     "user_tz": -330
    },
    "id": "liVbTm3e9d44",
    "outputId": "a4bf2800-4709-4d67-a4a7-6dca6f8d90ae"
   },
   "outputs": [],
   "source": [
    "# from google.colab import drive\n",
    "\n",
    "# drive.mount('/content/drive')"
   ]
  },
  {
   "cell_type": "code",
   "execution_count": null,
   "metadata": {
    "executionInfo": {
     "elapsed": 65518,
     "status": "ok",
     "timestamp": 1732022838486,
     "user": {
      "displayName": "Sailesh Panda",
      "userId": "08587574585507798904"
     },
     "user_tz": -330
    },
    "id": "l7CX9dzs_tfJ"
   },
   "outputs": [],
   "source": [
    "# import zipfile\n",
    "\n",
    "# zip_file_path1 = \"/teamspace/studios/this_studio/Data.zip\"\n",
    "# zip_file_path2 = \"/teamspace/studios/this_studio/Tokenizer.zip\"\n",
    "# zip_file_path3 = \"/teamspace/studios/this_studio/Trained_model.zip\"\n",
    "\n",
    "\n",
    "# extract_dir = \"/teamspace/studios/this_studio/\"\n",
    "\n",
    "# os.makedirs(extract_dir, exist_ok=True)\n",
    "\n",
    "# with zipfile.ZipFile(zip_file_path1, 'r') as zip_ref:\n",
    "#     zip_ref.extractall(extract_dir)\n",
    "# with zipfile.ZipFile(zip_file_path2, 'r') as zip_ref:\n",
    "#     zip_ref.extractall(extract_dir)\n",
    "# with zipfile.ZipFile(zip_file_path3, 'r') as zip_ref:\n",
    "#     zip_ref.extractall(extract_dir)"
   ]
  },
  {
   "cell_type": "markdown",
   "metadata": {
    "id": "WDDLLVTv4_Ym"
   },
   "source": [
    "### Data"
   ]
  },
  {
   "cell_type": "code",
   "execution_count": null,
   "metadata": {
    "executionInfo": {
     "elapsed": 7,
     "status": "ok",
     "timestamp": 1732022838487,
     "user": {
      "displayName": "Sailesh Panda",
      "userId": "08587574585507798904"
     },
     "user_tz": -330
    },
    "id": "YRHrtbbR4_Yn"
   },
   "outputs": [],
   "source": [
    "# with open(\"/Users/saileshpanda/Desktop/IITGN/NLP/Assignment3/archive/SST2-Data/SST2-Data/stanfordSentimentTreebank/stanfordSentimentTreebank/dictionary.txt\", 'r') as f:\n",
    "#     dictionary = f.read().split('\\n')[:-1]\n",
    "# with open(\"/Users/saileshpanda/Desktop/IITGN/NLP/Assignment3/archive/SST2-Data/SST2-Data/stanfordSentimentTreebank/stanfordSentimentTreebank/sentiment_labels.txt\", 'r') as f:\n",
    "#     labels = f.read().split('\\n')[1:-1]"
   ]
  },
  {
   "cell_type": "code",
   "execution_count": null,
   "metadata": {
    "executionInfo": {
     "elapsed": 6,
     "status": "ok",
     "timestamp": 1732022838487,
     "user": {
      "displayName": "Sailesh Panda",
      "userId": "08587574585507798904"
     },
     "user_tz": -330
    },
    "id": "2KsXsARS4_Yn"
   },
   "outputs": [],
   "source": [
    "# phrase_dict = {}\n",
    "# for sent in dictionary:\n",
    "\n",
    "#     sent, idx = sent.split('|')\n",
    "#     phrase_dict[int(idx)] = sent\n",
    "\n",
    "# label_dict = {}\n",
    "# for sent in labels:\n",
    "\n",
    "#     idx, score = sent.split('|')\n",
    "#     score = float(score)\n",
    "#     if score>=0 and score<=0.2:\n",
    "#         lab = 0\n",
    "#     elif score>0.2 and score<=0.4:\n",
    "#         lab = 1\n",
    "#     elif score>0.4 and score<=0.6:\n",
    "#         lab = 2\n",
    "#     elif score>0.6 and score<=0.8:\n",
    "#         lab = 3\n",
    "#     elif score>0.8 and score<=1.0:\n",
    "#         lab = 4\n",
    "\n",
    "#     label_dict[int(idx)] = lab\n"
   ]
  },
  {
   "cell_type": "code",
   "execution_count": null,
   "metadata": {
    "executionInfo": {
     "elapsed": 6,
     "status": "ok",
     "timestamp": 1732022838487,
     "user": {
      "displayName": "Sailesh Panda",
      "userId": "08587574585507798904"
     },
     "user_tz": -330
    },
    "id": "gq8RzlW14_Yn"
   },
   "outputs": [],
   "source": [
    "# X = []\n",
    "# y = []\n",
    "# for i in range(len(label_dict)):\n",
    "\n",
    "#     X.append(phrase_dict[i])\n",
    "#     y.append(label_dict[i])"
   ]
  },
  {
   "cell_type": "code",
   "execution_count": 2,
   "metadata": {
    "colab": {
     "base_uri": "https://localhost:8080/"
    },
    "executionInfo": {
     "elapsed": 6,
     "status": "ok",
     "timestamp": 1732022838487,
     "user": {
      "displayName": "Sailesh Panda",
      "userId": "08587574585507798904"
     },
     "user_tz": -330
    },
    "id": "ijdC09GGByq4",
    "outputId": "009c37fb-befa-41e4-c864-9a9710b6defd"
   },
   "outputs": [
    {
     "name": "stderr",
     "output_type": "stream",
     "text": [
      "/var/folders/jv/6j759gh52pjg5xgj136xc96w0000gn/T/ipykernel_37680/3641489098.py:4: FutureWarning: You are using `torch.load` with `weights_only=False` (the current default value), which uses the default pickle module implicitly. It is possible to construct malicious pickle data which will execute arbitrary code during unpickling (See https://github.com/pytorch/pytorch/blob/main/SECURITY.md#untrusted-models for more details). In a future release, the default value for `weights_only` will be flipped to `True`. This limits the functions that could be executed during unpickling. Arbitrary objects will no longer be allowed to be loaded via this mode unless they are explicitly allowlisted by the user via `torch.serialization.add_safe_globals`. We recommend you start setting `weights_only=True` for any use case where you don't have full control of the loaded file. Please open an issue on GitHub for any issues related to this experimental feature.\n",
      "  y = torch.load('/Users/saileshpanda/Desktop/IITGN/NLP/Assignment3/Data/y.pt').to(torch.int)\n"
     ]
    }
   ],
   "source": [
    "with open('/Users/saileshpanda/Desktop/IITGN/NLP/Assignment3/Data/X.txt', 'r') as f:\n",
    "    X = f.read().split('\\n')\n",
    "\n",
    "y = torch.load('/Users/saileshpanda/Desktop/IITGN/NLP/Assignment3/Data/y.pt').to(torch.int)"
   ]
  },
  {
   "cell_type": "code",
   "execution_count": 3,
   "metadata": {
    "executionInfo": {
     "elapsed": 433,
     "status": "ok",
     "timestamp": 1732022838916,
     "user": {
      "displayName": "Sailesh Panda",
      "userId": "08587574585507798904"
     },
     "user_tz": -330
    },
    "id": "534GIszE4_Yo"
   },
   "outputs": [],
   "source": [
    "X_train_val, X_test, y_train_val, y_test = train_test_split(X, y, test_size=0.3,\n",
    "                                                    stratify=y, random_state=323)\n",
    "\n",
    "X_train, X_val, y_train, y_val = train_test_split(X_train_val, y_train_val, test_size=0.2,\n",
    "                                                    stratify=y_train_val, random_state=323)"
   ]
  },
  {
   "cell_type": "markdown",
   "metadata": {
    "id": "hV5c-spo4_Yp"
   },
   "source": [
    "### Model"
   ]
  },
  {
   "cell_type": "code",
   "execution_count": null,
   "metadata": {
    "executionInfo": {
     "elapsed": 4,
     "status": "ok",
     "timestamp": 1732022838916,
     "user": {
      "displayName": "Sailesh Panda",
      "userId": "08587574585507798904"
     },
     "user_tz": -330
    },
    "id": "pmEt6VRh4_Yp"
   },
   "outputs": [],
   "source": [
    "# login(token=os.environ['HUGGINGFACE_API_KEY'])"
   ]
  },
  {
   "cell_type": "code",
   "execution_count": null,
   "metadata": {
    "executionInfo": {
     "elapsed": 4,
     "status": "ok",
     "timestamp": 1732022838916,
     "user": {
      "displayName": "Sailesh Panda",
      "userId": "08587574585507798904"
     },
     "user_tz": -330
    },
    "id": "YyPsFfdy4_Yq"
   },
   "outputs": [],
   "source": [
    "# model_name = \"meta-llama/Llama-3.2-1B\"\n",
    "# tokenizer = AutoTokenizer.from_pretrained(model_name)\n",
    "# model = AutoModelForSequenceClassification.from_pretrained(\n",
    "#     model_name,\n",
    "#     num_labels=5,\n",
    "#     torch_dtype=torch.float16,\n",
    "#     device_map=\"auto\"\n",
    "\n",
    "# )\n",
    "\n",
    "# model.resize_token_embeddings(len(tokenizer))\n",
    "\n",
    "# if tokenizer.pad_token is None:\n",
    "#     tokenizer.pad_token = tokenizer.eos_token\n",
    "\n",
    "# model.config.pad_token_id = tokenizer.pad_token_id\n",
    "\n",
    "# model.save_pretrained(\"./Model\")\n",
    "# tokenizer.save_pretrained(\"./Tokenizer\")"
   ]
  },
  {
   "cell_type": "code",
   "execution_count": 4,
   "metadata": {
    "executionInfo": {
     "elapsed": 2876,
     "status": "ok",
     "timestamp": 1732022841789,
     "user": {
      "displayName": "Sailesh Panda",
      "userId": "08587574585507798904"
     },
     "user_tz": -330
    },
    "id": "Ty7SiTx-4_Yq"
   },
   "outputs": [],
   "source": [
    "tokenizer = AutoTokenizer.from_pretrained(\"/Users/saileshpanda/Desktop/IITGN/NLP/Assignment3/Tokenizer\")\n",
    "model = AutoModelForSequenceClassification.from_pretrained(\"/Users/saileshpanda/Desktop/IITGN/NLP/Assignment3/Model\")"
   ]
  },
  {
   "cell_type": "markdown",
   "metadata": {
    "id": "nt0pa5iB4_Yq"
   },
   "source": [
    "### Preparing data for training"
   ]
  },
  {
   "cell_type": "code",
   "execution_count": 28,
   "metadata": {
    "executionInfo": {
     "elapsed": 11477,
     "status": "ok",
     "timestamp": 1732022853263,
     "user": {
      "displayName": "Sailesh Panda",
      "userId": "08587574585507798904"
     },
     "user_tz": -330
    },
    "id": "VnRe3R9W4_Yq"
   },
   "outputs": [],
   "source": [
    "tokenized_X_train = tokenizer(X_train, truncation=True, padding=False)\n",
    "tokenized_X_val = tokenizer(X_val, truncation=True, padding=False)\n",
    "tokenized_X_test = tokenizer(X_test[:1000], truncation=True, padding=False)"
   ]
  },
  {
   "cell_type": "code",
   "execution_count": 29,
   "metadata": {
    "executionInfo": {
     "elapsed": 7,
     "status": "ok",
     "timestamp": 1732022853264,
     "user": {
      "displayName": "Sailesh Panda",
      "userId": "08587574585507798904"
     },
     "user_tz": -330
    },
    "id": "jQkdRAbr4_Yr"
   },
   "outputs": [],
   "source": [
    "class CustomDataset:\n",
    "    def __init__(self, tokenized_inputs, labels):\n",
    "        self.inputs = tokenized_inputs\n",
    "        self.labels = labels\n",
    "\n",
    "    def __len__(self):\n",
    "        return len(self.labels)\n",
    "\n",
    "    def __getitem__(self, idx):\n",
    "        return {\n",
    "            \"input_ids\": self.inputs[\"input_ids\"][idx],\n",
    "            \"attention_mask\": self.inputs[\"attention_mask\"][idx],\n",
    "            \"labels\": self.labels[idx],\n",
    "        }\n",
    "\n",
    "train_dataset = CustomDataset(tokenized_X_train, y_train)\n",
    "test_dataset = CustomDataset(tokenized_X_test, y_test[:1000])\n",
    "val_dataset = CustomDataset(tokenized_X_val, y_val)"
   ]
  },
  {
   "cell_type": "code",
   "execution_count": 7,
   "metadata": {
    "executionInfo": {
     "elapsed": 6,
     "status": "ok",
     "timestamp": 1732022853264,
     "user": {
      "displayName": "Sailesh Panda",
      "userId": "08587574585507798904"
     },
     "user_tz": -330
    },
    "id": "ka4E5BDP4_Yr"
   },
   "outputs": [],
   "source": [
    "data_collator = DataCollatorWithPadding(tokenizer=tokenizer, return_tensors='pt')"
   ]
  },
  {
   "cell_type": "markdown",
   "metadata": {
    "id": "Y4GPEscN4_Yr"
   },
   "source": [
    "### Training"
   ]
  },
  {
   "cell_type": "code",
   "execution_count": null,
   "metadata": {
    "executionInfo": {
     "elapsed": 6,
     "status": "ok",
     "timestamp": 1732022853264,
     "user": {
      "displayName": "Sailesh Panda",
      "userId": "08587574585507798904"
     },
     "user_tz": -330
    },
    "id": "YmukfTdr4_Yr"
   },
   "outputs": [],
   "source": [
    "for name, param in model.named_parameters():\n",
    "    if name != 'score.weight':\n",
    "        param.requires_grad = False"
   ]
  },
  {
   "cell_type": "code",
   "execution_count": null,
   "metadata": {
    "executionInfo": {
     "elapsed": 5,
     "status": "ok",
     "timestamp": 1732022853264,
     "user": {
      "displayName": "Sailesh Panda",
      "userId": "08587574585507798904"
     },
     "user_tz": -330
    },
    "id": "UFf-RJJs4_Yr"
   },
   "outputs": [],
   "source": [
    "optim = AdamW([model.score.weight], lr=1e-5)"
   ]
  },
  {
   "cell_type": "code",
   "execution_count": null,
   "metadata": {
    "executionInfo": {
     "elapsed": 5,
     "status": "ok",
     "timestamp": 1732022853264,
     "user": {
      "displayName": "Sailesh Panda",
      "userId": "08587574585507798904"
     },
     "user_tz": -330
    },
    "id": "PxjDdIF54_Yr"
   },
   "outputs": [],
   "source": [
    "train_dataloader = DataLoader(train_dataset, batch_size=512, shuffle=True, collate_fn=data_collator)\n",
    "val_dataloader = DataLoader(train_dataset, batch_size=512, shuffle=True, collate_fn=data_collator)"
   ]
  },
  {
   "cell_type": "code",
   "execution_count": null,
   "metadata": {
    "colab": {
     "base_uri": "https://localhost:8080/"
    },
    "executionInfo": {
     "elapsed": 5,
     "status": "ok",
     "timestamp": 1732022853264,
     "user": {
      "displayName": "Sailesh Panda",
      "userId": "08587574585507798904"
     },
     "user_tz": -330
    },
    "id": "nCk76obtFASh",
    "outputId": "c14cceb1-1ccb-4e76-9581-6138707ffe62"
   },
   "outputs": [],
   "source": [
    "device = torch.device(\"cuda\" if torch.cuda.is_available() else \"cpu\")\n",
    "device"
   ]
  },
  {
   "cell_type": "code",
   "execution_count": null,
   "metadata": {
    "colab": {
     "base_uri": "https://localhost:8080/",
     "height": 1000
    },
    "executionInfo": {
     "elapsed": 2700267,
     "status": "error",
     "timestamp": 1732025553527,
     "user": {
      "displayName": "Sailesh Panda",
      "userId": "08587574585507798904"
     },
     "user_tz": -330
    },
    "id": "WkRpXw0s4_Yr",
    "outputId": "62244512-49eb-4a08-ad9d-1066ee179d48"
   },
   "outputs": [],
   "source": [
    "model.to(device)\n",
    "for epoch in range(5):\n",
    "\n",
    "    loss_train = np.array([])\n",
    "    model.train()\n",
    "\n",
    "    for idx, batch in enumerate(train_dataloader):\n",
    "\n",
    "        optim.zero_grad()\n",
    "\n",
    "        y_pred = model(batch.input_ids.to(device), batch.attention_mask.to(device))\n",
    "        loss = torch.nn.functional.cross_entropy(y_pred.logits, batch.labels.type(torch.LongTensor).to(device))\n",
    "\n",
    "        loss.backward()\n",
    "\n",
    "        optim.step()\n",
    "\n",
    "        loss_train = np.append(loss_train, loss.item())\n",
    "\n",
    "    model.eval()\n",
    "    loss_val = np.array([])\n",
    "    with torch.no_grad():\n",
    "      for batch in val_dataloader:\n",
    "          y_pred = model(batch['input_ids'].to(device), batch['attention_mask'].to(device))\n",
    "          loss = torch.nn.functional.cross_entropy(y_pred.logits, batch['labels'].type(torch.LongTensor)\n",
    "          .to(device))\n",
    "          loss_val = np.append(loss_val, loss.item())\n",
    "\n",
    "    checkpoint_path = f\"/teamspace/studios/this_studio/checkpoints/checkpoint_epoch_{epoch+1}\"\n",
    "    os.makedirs(checkpoint_path, exist_ok=True)\n",
    "    model.save_pretrained(checkpoint_path)\n",
    "    tokenizer.save_pretrained(checkpoint_path)\n",
    "    print(f\"Checkpoint saved at {checkpoint_path}\")\n",
    "\n",
    "\n",
    "    print(f\"Epoch: {epoch} Train Loss: {loss_train.mean()} Evaluation loss: {loss_val.mean()}\")"
   ]
  },
  {
   "cell_type": "markdown",
   "metadata": {},
   "source": [
    "Testing"
   ]
  },
  {
   "cell_type": "code",
   "execution_count": 8,
   "metadata": {},
   "outputs": [],
   "source": [
    "model_test = AutoModelForSequenceClassification.from_pretrained(\"/Users/saileshpanda/Desktop/IITGN/NLP/Assignment3/checkpoints_sst2/checkpoint_epoch_3\")\n",
    "tokenizer = AutoTokenizer.from_pretrained(\"/Users/saileshpanda/Desktop/IITGN/NLP/Assignment3/Tokenizer\")"
   ]
  },
  {
   "cell_type": "code",
   "execution_count": 30,
   "metadata": {},
   "outputs": [],
   "source": [
    "test_dataloader = DataLoader(test_dataset, batch_size=32, shuffle=True, collate_fn=data_collator)"
   ]
  },
  {
   "cell_type": "code",
   "execution_count": 20,
   "metadata": {},
   "outputs": [],
   "source": [
    "from sklearn.metrics import accuracy_score, precision_score, recall_score, f1_score\n"
   ]
  },
  {
   "cell_type": "code",
   "execution_count": null,
   "metadata": {},
   "outputs": [
    {
     "name": "stdout",
     "output_type": "stream",
     "text": [
      "Accuracy: 0.5380\n",
      "Precision: 0.5380\n",
      "Recall: 0.5380\n",
      "F1 Score: 0.5380\n"
     ]
    }
   ],
   "source": [
    "model_test.eval()\n",
    "\n",
    "device = \"cpu\"\n",
    "\n",
    "# Function to evaluate the model\n",
    "def evaluate_model(model, dataloader, device):\n",
    "    true_labels = []\n",
    "    predictions = []\n",
    "    \n",
    "    with torch.no_grad():\n",
    "        for batch in dataloader:\n",
    "            inputs = {key: value.to(device) for key, value in batch.items() if key != \"labels\"}\n",
    "            labels = batch[\"labels\"].to(device)\n",
    "            outputs = model(**inputs)\n",
    "            logits = outputs.logits\n",
    "            preds = torch.argmax(logits, dim=-1)\n",
    "            \n",
    "            true_labels.extend(labels.cpu().numpy())\n",
    "            predictions.extend(preds.cpu().numpy())\n",
    "    \n",
    "    return true_labels, predictions\n",
    "\n",
    "true_labels, predictions = evaluate_model(model_test, test_dataloader, device)\n",
    "\n",
    "# Calculate metrics\n",
    "accuracy = accuracy_score(true_labels, predictions)\n",
    "precision = precision_score(true_labels, predictions, average='micro')\n",
    "recall = recall_score(true_labels, predictions, average='micro')\n",
    "f1 = f1_score(true_labels, predictions, average='micro')\n",
    "\n",
    "# Print the results\n",
    "print(f\"Accuracy: {accuracy:.4f}\")\n",
    "print(f\"Precision: {precision:.4f}\")\n",
    "print(f\"Recall: {recall:.4f}\")\n",
    "print(f\"F1 Score: {f1:.4f}\")"
   ]
  },
  {
   "cell_type": "code",
   "execution_count": null,
   "metadata": {},
   "outputs": [],
   "source": []
  }
 ],
 "metadata": {
  "accelerator": "GPU",
  "colab": {
   "gpuType": "T4",
   "provenance": []
  },
  "kernelspec": {
   "display_name": ".AI",
   "language": "python",
   "name": "python3"
  },
  "language_info": {
   "codemirror_mode": {
    "name": "ipython",
    "version": 3
   },
   "file_extension": ".py",
   "mimetype": "text/x-python",
   "name": "python",
   "nbconvert_exporter": "python",
   "pygments_lexer": "ipython3",
   "version": "3.12.5"
  }
 },
 "nbformat": 4,
 "nbformat_minor": 0
}
