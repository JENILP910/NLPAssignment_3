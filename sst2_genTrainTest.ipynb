{
 "cells": [
  {
   "cell_type": "code",
   "execution_count": null,
   "metadata": {},
   "outputs": [],
   "source": []
  },
  {
   "cell_type": "code",
   "execution_count": null,
   "metadata": {},
   "outputs": [],
   "source": [
    "import pandas as pd\n",
    "\n",
    "# Load sentences\n",
    "sentences = pd.read_csv(\"datasetSentences.txt\", sep=\"\\t\", names=[\"sentence_index\", \"sentence\"], skiprows=1)\n"
   ]
  },
  {
   "cell_type": "code",
   "execution_count": null,
   "metadata": {},
   "outputs": [],
   "source": [
    "# Load dictionary\n",
    "dictionary = pd.read_csv(\"dictionary.txt\", sep=\"|\", names=[\"phrase\", \"phrase_id\"])\n",
    "\n",
    "# Load sentiment labels\n",
    "sentiment_labels = pd.read_csv(\"sentiment_labels.txt\", sep=\"|\", names=[\"phrase_id\", \"sentiment_score\"])\n",
    "\n",
    "# Convert phrase_id in both DataFrames to string\n",
    "dictionary[\"phrase_id\"] = dictionary[\"phrase_id\"].astype(str)\n",
    "sentiment_labels[\"phrase_id\"] = sentiment_labels[\"phrase_id\"].astype(str)\n",
    "\n",
    "# Merge to get phrases with sentiment scores\n",
    "phrase_sentiments = pd.merge(dictionary, sentiment_labels, on=\"phrase_id\")\n"
   ]
  },
  {
   "cell_type": "code",
   "execution_count": null,
   "metadata": {},
   "outputs": [],
   "source": [
    "# Load split information\n",
    "splits = pd.read_csv(\"datasetSplit.txt\", sep=\",\", names=[\"sentence_index\", \"split_label\"], skiprows=1)\n"
   ]
  },
  {
   "cell_type": "code",
   "execution_count": null,
   "metadata": {},
   "outputs": [],
   "source": [
    "# Merge sentences with splits\n",
    "sentences_splits = pd.merge(sentences, splits, on=\"sentence_index\")\n",
    "\n",
    "# Merge sentences with sentiment labels\n",
    "final_data = pd.merge(sentences_splits, phrase_sentiments, left_on=\"sentence\", right_on=\"phrase\", how=\"inner\")\n",
    "final_data[\"sentiment_score\"] = pd.to_numeric(final_data[\"sentiment_score\"], errors=\"coerce\")\n",
    "\n",
    "# Add labels based on sentiment score\n",
    "def map_sentiment_label(score):\n",
    "    if score <= 0.2:\n",
    "        return 0  # Very negative\n",
    "    elif score <= 0.4:\n",
    "        return 1  # Negative\n",
    "    elif score <= 0.6:\n",
    "        return 2  # Neutral\n",
    "    elif score <= 0.8:\n",
    "        return 3  # Positive\n",
    "    else:\n",
    "        return 4  # Very positive\n",
    "\n",
    "final_data[\"label\"] = final_data[\"sentiment_score\"].apply(map_sentiment_label)\n"
   ]
  },
  {
   "cell_type": "code",
   "execution_count": null,
   "metadata": {},
   "outputs": [],
   "source": [
    "# Create train, test, and dev splits\n",
    "train_data = final_data[final_data[\"split_label\"] == 1]\n",
    "test_data = final_data[final_data[\"split_label\"] == 2]\n",
    "dev_data = final_data[final_data[\"split_label\"] == 3]\n"
   ]
  },
  {
   "cell_type": "code",
   "execution_count": null,
   "metadata": {},
   "outputs": [],
   "source": [
    "# Save splits to CSV (optional)\n",
    "train_data[[\"sentence\", \"label\"]].to_csv(\"sst2_train.csv\", index=False)\n",
    "test_data[[\"sentence\", \"label\"]].to_csv(\"sst2_test.csv\", index=False)\n",
    "dev_data[[\"sentence\", \"label\"]].to_csv(\"sst2_dev.csv\", index=False)\n"
   ]
  },
  {
   "cell_type": "code",
   "execution_count": null,
   "metadata": {},
   "outputs": [],
   "source": []
  },
  {
   "cell_type": "code",
   "execution_count": null,
   "metadata": {},
   "outputs": [],
   "source": []
  }
 ],
 "metadata": {
  "language_info": {
   "name": "python"
  }
 },
 "nbformat": 4,
 "nbformat_minor": 2
}
